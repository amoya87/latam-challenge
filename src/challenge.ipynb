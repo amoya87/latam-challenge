{
 "cells": [
  {
   "cell_type": "markdown",
   "metadata": {},
   "source": [
    "En este archivo puedes escribir lo que estimes conveniente. Te recomendamos detallar tu solución y todas las suposiciones que estás considerando. Aquí puedes ejecutar las funciones que definiste en los otros archivos de la carpeta src, medir el tiempo, memoria, etc."
   ]
  },
  {
   "cell_type": "code",
   "execution_count": 18,
   "metadata": {
    "ExecuteTime": {
     "end_time": "2023-11-11T11:50:59.002330394Z",
     "start_time": "2023-11-11T11:50:58.975053584Z"
    }
   },
   "outputs": [],
   "source": [
    "file_path = \"/home/alerce/Downloads/tweets.json/farmers-protest-tweets-2021-2-4.json\""
   ]
  },
  {
   "cell_type": "markdown",
   "source": [
    "# Desafío Ingeniero de Datos - Explicación de Soluciones\n",
    "\n",
    "## Explicación de la Función q1\n",
    "\n",
    "### Top 10 Fechas con Más Tweets\n",
    "\n",
    "Buscar las 10 fechas(dias) con más tweets y mencionar el usuario con más publicaciones para cada una de esas fechas.\n",
    "\n",
    "#### Q1 Memory\n",
    "\n",
    "1. **Inicialización de Estructuras de Datos:**\n",
    "   - Se utiliza un diccionario `date_name_count` que almacena, para cada timestamp, un contador de nombres.\n",
    "\n",
    "2. **Lectura del Archivo JSON:**\n",
    "   - Se lee el archivo JSON línea por línea para evitar la sobrecarga de memoria\n",
    "   - Se decodifica cada línea como un objeto JSON.\n",
    "   - Se extrae la fecha y el nombre de usuario de cada tweet. (únicos elementos necesarios)\n",
    "\n",
    "3. **Conteo de Publicaciones por Fecha y Usuario:**\n",
    "   - Se convierte la fecha a un formato de timestamp para reducir la memoria y unificar por días sin importar la hora.\n",
    "   - Se actualiza el contador `date_name_count` con la información del tweet actual. Un diccionario hashmap es la manera más eficiente de hacer esto.\n",
    "\n",
    "4. **Selección de las 10 Fechas con Más Tweets:**\n",
    "   - Se determinan las 10 fechas con más tweets sumando los conteos de todas las publicaciones en ese día.\n",
    "\n",
    "5. **Identificación del Usuario Más Frecuente por Fecha:**\n",
    "   - Para cada fecha en el top 10, se identifica el nombre de usuario más frecuente en las publicaciones de esa fecha usando los contadores y la función `most_common(n=1)`, que para n=1 es O(m), sindo m la cantidad de elementos contados.\n",
    "\n",
    "6. **Generación del Resultado Final:**\n",
    "   - Se genera una lista de tuplas, donde cada tupla contiene una fecha y el nombre del usuario más frecuente en esa fecha.\n",
    "\n",
    "### Consideraciones Adicionales:\n",
    "- La función utiliza estructuras de datos eficientes para el conteo y la selección de fechas.\n",
    "- Se han implementado medidas para garantizar la robustez ante posibles errores en los datos de entrada.\n",
    "- Si bien los profiles muestran el trade-of memoria vs tiempo, el volumen de datos no permite que esta diferencia sea más significativa.\n",
    "- Para hacer una comparación justa entre tiempo y memoria no se ha cambiado de tecnología."
   ],
   "metadata": {
    "collapsed": false
   }
  },
  {
   "cell_type": "code",
   "execution_count": 19,
   "outputs": [
    {
     "name": "stdout",
     "output_type": "stream",
     "text": [
      "(datetime.date(2021, 2, 12), 'RanbirS00614606')\n",
      "(datetime.date(2021, 2, 13), 'MaanDee08215437')\n",
      "(datetime.date(2021, 2, 17), 'RaaJVinderkaur')\n",
      "(datetime.date(2021, 2, 16), 'jot__b')\n",
      "(datetime.date(2021, 2, 14), 'rebelpacifist')\n",
      "(datetime.date(2021, 2, 18), 'neetuanjle_nitu')\n",
      "(datetime.date(2021, 2, 15), 'jot__b')\n",
      "(datetime.date(2021, 2, 20), 'MangalJ23056160')\n",
      "(datetime.date(2021, 2, 23), 'Surrypuria')\n",
      "(datetime.date(2021, 2, 19), 'Preetm91')\n"
     ]
    }
   ],
   "source": [
    "from src.q1_memory import q1_memory\n",
    "\n",
    "r = q1_memory(file_path)\n",
    "print(*r, sep=\"\\n\")"
   ],
   "metadata": {
    "collapsed": false,
    "ExecuteTime": {
     "end_time": "2023-11-11T11:51:02.330773702Z",
     "start_time": "2023-11-11T11:50:58.987202732Z"
    }
   }
  },
  {
   "cell_type": "markdown",
   "source": [
    "#### Q1 Time\n",
    "La función `q1_time` es muy parecida a `q1_memory`, pero para optimizar el tiempo de ejecución se utiliza un diccionario adicional que evita sumando los conteos para la selección de las 10 Fechas con Más Tweets. De esta forma se utiliza más memoria para tener un mejor desempeño en tiempo de ejecución.\n"
   ],
   "metadata": {
    "collapsed": false
   }
  },
  {
   "cell_type": "code",
   "execution_count": 20,
   "outputs": [
    {
     "name": "stdout",
     "output_type": "stream",
     "text": [
      "(datetime.date(2021, 2, 12), 'RanbirS00614606')\n",
      "(datetime.date(2021, 2, 13), 'MaanDee08215437')\n",
      "(datetime.date(2021, 2, 17), 'RaaJVinderkaur')\n",
      "(datetime.date(2021, 2, 16), 'jot__b')\n",
      "(datetime.date(2021, 2, 14), 'rebelpacifist')\n",
      "(datetime.date(2021, 2, 18), 'neetuanjle_nitu')\n",
      "(datetime.date(2021, 2, 15), 'jot__b')\n",
      "(datetime.date(2021, 2, 20), 'MangalJ23056160')\n",
      "(datetime.date(2021, 2, 23), 'Surrypuria')\n",
      "(datetime.date(2021, 2, 19), 'Preetm91')\n"
     ]
    }
   ],
   "source": [
    "from src.q1_time import q1_time\n",
    "\n",
    "r = q1_time(file_path)\n",
    "print(*r, sep=\"\\n\")"
   ],
   "metadata": {
    "collapsed": false,
    "ExecuteTime": {
     "end_time": "2023-11-11T11:51:05.580508770Z",
     "start_time": "2023-11-11T11:51:02.304102054Z"
    }
   }
  },
  {
   "cell_type": "markdown",
   "source": [
    "## Explicación de la Función q2\n",
    "\n",
    "### Top 10 Emojis Más Utilizados\n",
    "\n",
    "La función `q2_memory` tiene como objetivo extraer los 10 emojis más utilizados de un archivo JSON que contiene tweets.\n",
    "Se asume que todos los emojis están en el rango unicode  [\\U0001F300-\\U0001FAFF]. Además por no encontrar consenso entre varias bibliotecas para extraer emojis se revisaron las especificaciones unicode de las siguientes fuentes:\n",
    "https://unicode.org/emoji/charts/full-emoji-list.html\n",
    "https://symbl.cc/en/unicode/table/#enclosed-alphanumeric-supplement\n",
    "\n",
    "#### Q2 Memory\n",
    "\n",
    "1. **Inicialización de Estructuras de Datos:**\n",
    "   - Se utiliza un diccionario `emoji_count` como un contador para rastrear la frecuencia de cada emoji.\n",
    "\n",
    "2. **Lectura del Archivo JSON:**\n",
    "   - Se lee el archivo JSON línea por línea.\n",
    "   - Se decodifica cada línea como un objeto JSON.\n",
    "   - Se extrae el contenido del tweet.\n",
    "\n",
    "3. **Extracción de Emojis del Texto del Tweet:**\n",
    "   - Se utiliza una función auxiliar (`extract_emojis`) para extraer todos los emojis del texto del tweet.\n",
    "   - Se convierten los emojis a códigos Unicode utilizando `ord()`. Esta es la optimización en cuanto a memoria respecto a `q2_time` ya que los códigos son números enteros y tienen una representación menor en memoria. Sin embargo, perjudica el tiempo puesto que añade una sobrecarga en codificar todos los emojis y decodificar el top-10 al final.\n",
    "\n",
    "4. **Conteo de Frecuencia de Emojis:**\n",
    "   - Se actualiza el contador `emoji_count` con la frecuencia de cada emoji en el tweet.\n",
    "\n",
    "5. **Selección de los 10 Emojis Más Frecuentes:**\n",
    "   - Se identifican los 10 emojis más frecuentes utilizando el método `most_common(10)` del contador.\n",
    "\n",
    "6. **Generación del Resultado Final:**\n",
    "   - Se genera una lista de tuples, donde cada tuple contiene un emoji y su frecuencia, ordenados en orden descendente de frecuencia.\n",
    "\n",
    "### Consideraciones Adicionales:\n",
    "- La función utiliza estructuras de datos eficientes para el conteo y la selección de emojis.\n",
    "- Se ha priorizado la eficiencia en el uso de la memoria.\n",
    "- Se han implementado medidas para garantizar la robustez ante posibles errores en los datos de entrada.\n"
   ],
   "metadata": {
    "collapsed": false
   }
  },
  {
   "cell_type": "code",
   "execution_count": 21,
   "outputs": [
    {
     "name": "stdout",
     "output_type": "stream",
     "text": [
      "('🙏', 7286)\n",
      "('😂', 3072)\n",
      "('🚜', 2972)\n",
      "('🌾', 2363)\n",
      "('🏻', 2080)\n",
      "('🤣', 1668)\n",
      "('🏽', 1218)\n",
      "('👇', 1108)\n",
      "('💚', 1040)\n",
      "('💪', 947)\n"
     ]
    }
   ],
   "source": [
    "from src.q2_memory import q2_memory\n",
    "\n",
    "r = q2_memory(file_path)\n",
    "print(*r, sep=\"\\n\")"
   ],
   "metadata": {
    "collapsed": false,
    "ExecuteTime": {
     "end_time": "2023-11-11T11:51:08.977118036Z",
     "start_time": "2023-11-11T11:51:05.581853120Z"
    }
   }
  },
  {
   "cell_type": "markdown",
   "source": [
    "#### Q2 Time\n",
    "La función `q2_time` es `q2_memory` sin la codificación de los emojis. Fue un poco difícil encontrar algo más óptimo que la solución propuesta, ya que utiliza las estructuras más eficientes para su caso de uso.\n"
   ],
   "metadata": {
    "collapsed": false
   }
  },
  {
   "cell_type": "code",
   "execution_count": 22,
   "outputs": [
    {
     "name": "stdout",
     "output_type": "stream",
     "text": [
      "('🙏', 7286)\n",
      "('😂', 3072)\n",
      "('🚜', 2972)\n",
      "('🌾', 2363)\n",
      "('🏻', 2080)\n",
      "('🤣', 1668)\n",
      "('🏽', 1218)\n",
      "('👇', 1108)\n",
      "('💚', 1040)\n",
      "('💪', 947)\n"
     ]
    }
   ],
   "source": [
    "from src.q2_time import q2_time\n",
    "\n",
    "r = q2_time(file_path)\n",
    "print(*r, sep=\"\\n\")"
   ],
   "metadata": {
    "collapsed": false,
    "ExecuteTime": {
     "end_time": "2023-11-11T11:51:12.348583524Z",
     "start_time": "2023-11-11T11:51:08.978481212Z"
    }
   }
  },
  {
   "cell_type": "markdown",
   "source": [
    "## Explicación de la Función q3\n",
    "\n",
    "### Top 10 Usuarios Más Mencionados\n",
    "\n",
    "La función `q3_memory` tiene como objetivo extraer los 10 usuarios más mencionados en tweets de un archivo JSON.\n",
    "\n",
    "#### Q3 Memory\n",
    "\n",
    "1. **Inicialización de Estructuras de Datos:**\n",
    "   - Se utiliza un diccionario llamado `mention_counter` para contar las menciones de cada nombre de usuario.\n",
    "\n",
    "2. **Lectura del Archivo JSON:**\n",
    "   - Se lee el archivo JSON línea por línea.\n",
    "   - Se decodifica cada línea como un objeto JSON.\n",
    "   - Se extraen los usuarios mencionados en cada tweet.\n",
    "\n",
    "3. **Codificación de Nombres de Usuario:**\n",
    "   - Se utiliza la función `encode(\"ascii\")` para codificar cada nombre de usuario en formato ASCII.\n",
    "   - Esto se realiza para optimizar el uso de memoria, ya que los nombres de usuario de Twitter generalmente contienen caracteres limitados y pueden representarse en ASCII.\n",
    "\n",
    "4. **Conteo de Frecuencia de Menciones:**\n",
    "   - Se actualiza el contador `mention_counter` con la frecuencia de cada nombre de usuario mencionado.\n",
    "\n",
    "5. **Selección de los 10 Usuarios Más Mencionados:**\n",
    "   - Se identifican los 10 nombres de usuario más mencionados utilizando el método `most_common(10)` del contador.\n",
    "\n",
    "7. **Generación del Resultado Final:**\n",
    "   - Se genera una lista de tuples, donde cada tuple contiene un nombre de usuario y su frecuencia de mención, ordenados en orden descendente de frecuencia.\n",
    "\n",
    "### Consideraciones Adicionales:\n",
    "- La función utiliza estructuras de datos eficientes para el conteo y la selección de menciones.\n",
    "- Se ha priorizado la eficiencia en el uso de la memoria mediante la codificación y decodificación de nombres de usuario en formato ASCII."
   ],
   "metadata": {
    "collapsed": false
   }
  },
  {
   "cell_type": "code",
   "execution_count": 23,
   "outputs": [
    {
     "name": "stdout",
     "output_type": "stream",
     "text": [
      "('narendramodi', 2265)\n",
      "('Kisanektamorcha', 1840)\n",
      "('RakeshTikaitBKU', 1644)\n",
      "('PMOIndia', 1427)\n",
      "('RahulGandhi', 1146)\n",
      "('GretaThunberg', 1048)\n",
      "('RaviSinghKA', 1019)\n",
      "('rihanna', 986)\n",
      "('UNHumanRights', 962)\n",
      "('meenaharris', 926)\n"
     ]
    }
   ],
   "source": [
    "from src.q3_memory import q3_memory\n",
    "\n",
    "r = q3_memory(file_path)\n",
    "print(*r, sep=\"\\n\")"
   ],
   "metadata": {
    "collapsed": false,
    "ExecuteTime": {
     "end_time": "2023-11-11T11:51:15.492501952Z",
     "start_time": "2023-11-11T11:51:12.350048845Z"
    }
   }
  },
  {
   "cell_type": "markdown",
   "source": [
    "### Q3 Time\n",
    "La función `q3_time` es `q3_memory` sin la codificación de los usernames."
   ],
   "metadata": {
    "collapsed": false
   }
  },
  {
   "cell_type": "code",
   "execution_count": 24,
   "outputs": [
    {
     "name": "stdout",
     "output_type": "stream",
     "text": [
      "('narendramodi', 2265)\n",
      "('Kisanektamorcha', 1840)\n",
      "('RakeshTikaitBKU', 1644)\n",
      "('PMOIndia', 1427)\n",
      "('RahulGandhi', 1146)\n",
      "('GretaThunberg', 1048)\n",
      "('RaviSinghKA', 1019)\n",
      "('rihanna', 986)\n",
      "('UNHumanRights', 962)\n",
      "('meenaharris', 926)\n"
     ]
    }
   ],
   "source": [
    "from src.q3_time import q3_time\n",
    "\n",
    "r = q3_time(file_path)\n",
    "print(*r, sep=\"\\n\")"
   ],
   "metadata": {
    "collapsed": false,
    "ExecuteTime": {
     "end_time": "2023-11-11T11:51:18.607063103Z",
     "start_time": "2023-11-11T11:51:15.522050715Z"
    }
   }
  }
 ],
 "metadata": {
  "language_info": {
   "name": "python"
  },
  "orig_nbformat": 4,
  "kernelspec": {
   "name": "python3",
   "language": "python",
   "display_name": "Python 3 (ipykernel)"
  }
 },
 "nbformat": 4,
 "nbformat_minor": 2
}
